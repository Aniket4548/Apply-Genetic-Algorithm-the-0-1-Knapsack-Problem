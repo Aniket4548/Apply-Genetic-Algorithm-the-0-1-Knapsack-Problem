{
 "cells": [
  {
   "cell_type": "markdown",
   "id": "5507fef8",
   "metadata": {},
   "source": [
    "# Practical 16"
   ]
  },
  {
   "cell_type": "markdown",
   "id": "dbd777b5",
   "metadata": {},
   "source": [
    "## Aim : Apply Genetic Algorithm, the 0-1 Knapsack Problem"
   ]
  },
  {
   "cell_type": "code",
   "execution_count": 1,
   "id": "26fec7cb",
   "metadata": {},
   "outputs": [],
   "source": [
    "import random\n",
    "# function to generate a random population\n",
    "def generate_population(size):\n",
    "    population = []\n",
    "    for _ in range(size):\n",
    "        genes = [0, 1]\n",
    "        chromosome = []\n",
    "        for _ in range(len(items)):\n",
    "            chromosome.append(random.choice(genes))\n",
    "        population.append(chromosome)\n",
    "    print(\"Generated a random population of size\", size)\n",
    "    return population"
   ]
  },
  {
   "cell_type": "code",
   "execution_count": 2,
   "id": "91f2d321",
   "metadata": {},
   "outputs": [],
   "source": [
    "# function to calculate the fitness of a chromosome\n",
    "def calculate_fitness(chromosome):\n",
    "    total_weight = 0\n",
    "    total_value = 0\n",
    "    for i in range(len(chromosome)):\n",
    "        if chromosome[i] == 1:\n",
    "            total_weight += items[i][0]\n",
    "            total_value += items[i][1]\n",
    "    if total_weight > max_weight:\n",
    "        return 0\n",
    "    else:\n",
    "        return total_value"
   ]
  },
  {
   "cell_type": "code",
   "execution_count": 3,
   "id": "9eb3bea9",
   "metadata": {},
   "outputs": [],
   "source": [
    "# function to select two chromosomes for crossover\n",
    "def select_chromosomes(population):\n",
    "    fitness_values = []\n",
    "    for chromosome in population:\n",
    "        fitness_values.append(calculate_fitness(chromosome))\n",
    "\n",
    "    fitness_values = [float(i)/sum(fitness_values) for i in fitness_values]\n",
    "\n",
    "    parent1 = random.choices(population, weights=fitness_values, k=1)[0]\n",
    "    parent2 = random.choices(population, weights=fitness_values, k=1)[0]\n",
    "\n",
    "    print(\"Selected two chromosomes for crossover\")\n",
    "    return parent1, parent2"
   ]
  },
  {
   "cell_type": "code",
   "execution_count": 4,
   "id": "befae3eb",
   "metadata": {},
   "outputs": [],
   "source": [
    "# function to perform crossover between two chromosomes\n",
    "def crossover(parent1, parent2):\n",
    "    crossover_point = random.randint(0, len(items)-1)\n",
    "    child1 = parent1[0:crossover_point] + parent2[crossover_point:]\n",
    "    child2 = parent2[0:crossover_point] + parent1[crossover_point:]\n",
    "\n",
    "    print(\"Performed crossover between two chromosomes\")\n",
    "    return child1, child2\n"
   ]
  },
  {
   "cell_type": "code",
   "execution_count": 5,
   "id": "6bde69a9",
   "metadata": {},
   "outputs": [],
   "source": [
    "# function to perform mutation on a chromosome\n",
    "def mutate(chromosome):\n",
    "    mutation_point = random.randint(0, len(items)-1)\n",
    "    if chromosome[mutation_point] == 0:\n",
    "        chromosome[mutation_point] = 1\n",
    "    else:\n",
    "        chromosome[mutation_point] = 0\n",
    "    print(\"Performed mutation on a chromosome\")\n",
    "    return chromosome\n"
   ]
  },
  {
   "cell_type": "code",
   "execution_count": 6,
   "id": "82d3e9ba",
   "metadata": {},
   "outputs": [],
   "source": [
    "# function to get the best chromosome from the population\n",
    "def get_best(population):\n",
    "    fitness_values = []\n",
    "    for chromosome in population:\n",
    "        fitness_values.append(calculate_fitness(chromosome))\n",
    "        \n",
    "    max_value = max(fitness_values)\n",
    "    max_index = fitness_values.index(max_value)\n",
    "    return population[max_index]"
   ]
  },
  {
   "cell_type": "code",
   "execution_count": 7,
   "id": "6f2ffe2a",
   "metadata": {},
   "outputs": [],
   "source": [
    "# items that can be put in the knapsack\n",
    "items = [\n",
    "        [1, 2],\n",
    "        [2, 4],\n",
    "        [3, 4],\n",
    "        [4, 5],\n",
    "        [5, 7],\n",
    "        [6, 9]\n",
    "        ]"
   ]
  },
  {
   "cell_type": "code",
   "execution_count": 8,
   "id": "07974b6b",
   "metadata": {},
   "outputs": [
    {
     "name": "stdout",
     "output_type": "stream",
     "text": [
      "Available items:\n",
      " [[1, 2], [2, 4], [3, 4], [4, 5], [5, 7], [6, 9]]\n"
     ]
    }
   ],
   "source": [
    "# print available items\n",
    "print(\"Available items:\\n\", items)"
   ]
  },
  {
   "cell_type": "code",
   "execution_count": 9,
   "id": "a2178c99",
   "metadata": {},
   "outputs": [
    {
     "name": "stdout",
     "output_type": "stream",
     "text": [
      "\n",
      "Genetic algorithm parameters:\n",
      "Max weight: 10\n",
      "Population: 10\n",
      "Mutation probability: 0.2\n",
      "Generations: 10 \n",
      "\n",
      "Performing genetic evolution:\n"
     ]
    }
   ],
   "source": [
    "# parameters for genetic algorithm\n",
    "max_weight = 10\n",
    "population_size = 10\n",
    "mutation_probability = 0.2\n",
    "generations = 10\n",
    "\n",
    "print(\"\\nGenetic algorithm parameters:\")\n",
    "print(\"Max weight:\", max_weight)\n",
    "print(\"Population:\", population_size)\n",
    "print(\"Mutation probability:\", mutation_probability)\n",
    "print(\"Generations:\", generations, \"\\n\")\n",
    "print(\"Performing genetic evolution:\")"
   ]
  },
  {
   "cell_type": "code",
   "execution_count": 10,
   "id": "229f89b8",
   "metadata": {},
   "outputs": [
    {
     "name": "stdout",
     "output_type": "stream",
     "text": [
      "Generated a random population of size 10\n",
      "Selected two chromosomes for crossover\n",
      "Performed crossover between two chromosomes\n",
      "Selected two chromosomes for crossover\n",
      "Performed crossover between two chromosomes\n",
      "Selected two chromosomes for crossover\n",
      "Performed crossover between two chromosomes\n",
      "Performed mutation on a chromosome\n",
      "Selected two chromosomes for crossover\n",
      "Performed crossover between two chromosomes\n",
      "Performed mutation on a chromosome\n",
      "Performed mutation on a chromosome\n",
      "Selected two chromosomes for crossover\n",
      "Performed crossover between two chromosomes\n",
      "Selected two chromosomes for crossover\n",
      "Performed crossover between two chromosomes\n",
      "Selected two chromosomes for crossover\n",
      "Performed crossover between two chromosomes\n",
      "Performed mutation on a chromosome\n",
      "Selected two chromosomes for crossover\n",
      "Performed crossover between two chromosomes\n",
      "Selected two chromosomes for crossover\n",
      "Performed crossover between two chromosomes\n",
      "Selected two chromosomes for crossover\n",
      "Performed crossover between two chromosomes\n"
     ]
    }
   ],
   "source": [
    "# generate a random population\n",
    "population = generate_population(population_size)\n",
    "\n",
    "# evolve the population for specified number of generations\n",
    "for _ in range(generations):\n",
    "    # select two chromosomes for crossover\n",
    "    parent1, parent2 = select_chromosomes(population)\n",
    "    \n",
    "    # perform crossover to generate two new chromosomes\n",
    "    child1, child2 = crossover(parent1, parent2)\n",
    "    \n",
    "    # perform mutation on the two new chromosomes\n",
    "    if random.uniform(0, 1) < mutation_probability:\n",
    "        child1 = mutate(child1)\n",
    "    if random.uniform(0, 1) < mutation_probability:\n",
    "        child2 = mutate(child2)\n",
    "        \n",
    "    # replace the old population with the new population\n",
    "    population = [child1, child2] + population[2:]"
   ]
  },
  {
   "cell_type": "code",
   "execution_count": 11,
   "id": "4f6beaed",
   "metadata": {},
   "outputs": [],
   "source": [
    "# get the best chromosome from the population\n",
    "best = get_best(population)\n",
    "# get the weight and value of the best solution\n",
    "total_weight = 0\n",
    "total_value = 0\n",
    "for i in range(len(best)):\n",
    "    if best[i] == 1:\n",
    "        total_weight += items[i][0]\n",
    "        total_value += items[i][1]"
   ]
  },
  {
   "cell_type": "code",
   "execution_count": 12,
   "id": "d5d4ef16",
   "metadata": {},
   "outputs": [
    {
     "name": "stdout",
     "output_type": "stream",
     "text": [
      "\n",
      "The best solution:\n",
      "Weight: 10\n",
      "Value: 15\n",
      "The best population :  [0, 1, 1, 0, 1, 0]\n"
     ]
    }
   ],
   "source": [
    "# print the best solution\n",
    "print(\"\\nThe best solution:\")\n",
    "print(\"Weight:\", total_weight)\n",
    "print(\"Value:\", total_value)\n",
    "print(\"The best population : \", best)"
   ]
  },
  {
   "cell_type": "code",
   "execution_count": null,
   "id": "25f564ab",
   "metadata": {},
   "outputs": [],
   "source": []
  }
 ],
 "metadata": {
  "kernelspec": {
   "display_name": "Python 3 (ipykernel)",
   "language": "python",
   "name": "python3"
  },
  "language_info": {
   "codemirror_mode": {
    "name": "ipython",
    "version": 3
   },
   "file_extension": ".py",
   "mimetype": "text/x-python",
   "name": "python",
   "nbconvert_exporter": "python",
   "pygments_lexer": "ipython3",
   "version": "3.9.13"
  }
 },
 "nbformat": 4,
 "nbformat_minor": 5
}
